{
 "cells": [
  {
   "cell_type": "code",
   "execution_count": 17,
   "metadata": {},
   "outputs": [
    {
     "name": "stdout",
     "output_type": "stream",
     "text": [
      "Requirement already satisfied: sqlalchemy in c:\\users\\90536\\appdata\\local\\packages\\pythonsoftwarefoundation.python.3.9_qbz5n2kfra8p0\\localcache\\local-packages\\python39\\site-packages (2.0.7)\n",
      "Requirement already satisfied: typing-extensions>=4.2.0 in c:\\users\\90536\\appdata\\local\\packages\\pythonsoftwarefoundation.python.3.9_qbz5n2kfra8p0\\localcache\\local-packages\\python39\\site-packages (from sqlalchemy) (4.5.0)\n",
      "Requirement already satisfied: greenlet!=0.4.17 in c:\\users\\90536\\appdata\\local\\packages\\pythonsoftwarefoundation.python.3.9_qbz5n2kfra8p0\\localcache\\local-packages\\python39\\site-packages (from sqlalchemy) (2.0.2)\n",
      "Note: you may need to restart the kernel to use updated packages.\n"
     ]
    },
    {
     "name": "stderr",
     "output_type": "stream",
     "text": [
      "WARNING: You are using pip version 22.0.4; however, version 23.0.1 is available.\n",
      "You should consider upgrading via the 'C:\\Users\\90536\\AppData\\Local\\Microsoft\\WindowsApps\\PythonSoftwareFoundation.Python.3.9_qbz5n2kfra8p0\\python.exe -m pip install --upgrade pip' command.\n"
     ]
    }
   ],
   "source": [
    "pip install sqlalchemy"
   ]
  },
  {
   "cell_type": "code",
   "execution_count": 18,
   "metadata": {},
   "outputs": [],
   "source": [
    "#SQLite için gerekli paketi çağıralım\n",
    "import sqlite3"
   ]
  },
  {
   "cell_type": "code",
   "execution_count": 19,
   "metadata": {},
   "outputs": [],
   "source": [
    "#veri tabanına bağlanalım ve bağlantıyı bir değişkene yükleyelim\n",
    "conn = sqlite3.connect(\"db\")"
   ]
  },
  {
   "cell_type": "code",
   "execution_count": 20,
   "metadata": {},
   "outputs": [],
   "source": [
    "# Veri tabanı ile iletişim sağlayacak bir Cursor elemanı oluşturalım\n",
    "cursor = conn.cursor()"
   ]
  },
  {
   "cell_type": "code",
   "execution_count": 21,
   "metadata": {},
   "outputs": [
    {
     "ename": "OperationalError",
     "evalue": "table Pozisyon already exists",
     "output_type": "error",
     "traceback": [
      "\u001b[1;31m---------------------------------------------------------------------------\u001b[0m",
      "\u001b[1;31mOperationalError\u001b[0m                          Traceback (most recent call last)",
      "Cell \u001b[1;32mIn[21], line 2\u001b[0m\n\u001b[0;32m      1\u001b[0m \u001b[39m#SQL komutumuzu cursor kullanarak çalıştıralım\u001b[39;00m\n\u001b[1;32m----> 2\u001b[0m cursor\u001b[39m.\u001b[39;49mexecute(\u001b[39m\"\u001b[39;49m\u001b[39mCREATE TABLE Pozisyon(id INTEGER PRIMARY KEY, calisan_id INTEGER NOT NULL, unvan VARCHAR(255), baslangicTarihi INTEGER, bitisTarihi INTEGER)\u001b[39;49m\u001b[39m\"\u001b[39;49m)\n",
      "\u001b[1;31mOperationalError\u001b[0m: table Pozisyon already exists"
     ]
    }
   ],
   "source": [
    "#SQL komutumuzu cursor kullanarak çalıştıralım\n",
    "cursor.execute(\"CREATE TABLE Pozisyon(id INTEGER PRIMARY KEY, calisan_id INTEGER NOT NULL, unvan VARCHAR(255), baslangicTarihi INTEGER, bitisTarihi INTEGER)\")"
   ]
  },
  {
   "cell_type": "code",
   "execution_count": 22,
   "metadata": {},
   "outputs": [
    {
     "name": "stdout",
     "output_type": "stream",
     "text": [
      "[('Calisan',), ('Bolum',), ('Pozisyon',)]\n"
     ]
    }
   ],
   "source": [
    "# Veri tabanında yer alan tabloları listeleyen SQL kodunu çalıştıralım\n",
    "cursor.execute(\"SELECT name FROM sqlite_master WHERE type = 'table';\")\n",
    "\n",
    "#SQL sonucunda oluşan yanıtı alarak tables değişkenine yükleyelim\n",
    "tables = cursor.fetchall()\n",
    "\n",
    "# tables değişkeni içerisinde neler olduğuna bakalım\n",
    "print(tables)"
   ]
  },
  {
   "cell_type": "code",
   "execution_count": 23,
   "metadata": {},
   "outputs": [],
   "source": [
    "# Yapılan değişiklikleri veri tabanı üzerine kaydedelim\n",
    "conn.commit()\n",
    "\n",
    "#Veri tabanı bağlantısını kapatalım\n",
    "conn.close()"
   ]
  },
  {
   "cell_type": "code",
   "execution_count": 49,
   "metadata": {},
   "outputs": [],
   "source": [
    "#SQLAlchemy’i, ilgili alt paketleriyle birlikte çağıralım\n",
    "import sqlalchemy\n",
    "from sqlalchemy import create_engine, Column, Integer, String, Date, ForeignKey\n",
    "from sqlalchemy.ext.declarative import declarative_base\n",
    "from sqlalchemy.orm import relationship"
   ]
  },
  {
   "cell_type": "code",
   "execution_count": 50,
   "metadata": {},
   "outputs": [
    {
     "name": "stderr",
     "output_type": "stream",
     "text": [
      "C:\\Users\\90536\\AppData\\Local\\Temp\\ipykernel_11432\\3891686630.py:3: MovedIn20Warning: The ``declarative_base()`` function is now available as sqlalchemy.orm.declarative_base(). (deprecated since: 2.0) (Background on SQLAlchemy 2.0 at: https://sqlalche.me/e/b8d9)\n",
      "  Base = declarative_base()\n"
     ]
    }
   ],
   "source": [
    "# Veri tabanı motoru oluştur, veri tabanı bağlantısını sağladık\n",
    "engine = create_engine(\"sqlite:///db\")\n",
    "Base = declarative_base()"
   ]
  },
  {
   "cell_type": "code",
   "execution_count": 48,
   "metadata": {},
   "outputs": [],
   "source": [
    "class Yoneticilik(Base):\n",
    "    #__tablename__ değişkeni, bu sınıfın hangi tablo ile birlikte çalıştığını tanımlar\n",
    "    __tablename__ = \"Yoneticilik\"\n",
    "    id = Column(Integer, primary_key=True)\n",
    "    calisan_id = Column(Integer)\n",
    "    bolum_id = Column(Integer)\n",
    "    baslangicTarihi = Column(Date)\n"
   ]
  },
  {
   "cell_type": "code",
   "execution_count": 29,
   "metadata": {},
   "outputs": [],
   "source": [
    "#Bu kod bloğu çalıştırıldığında tanımlanan sınıflar veri tabanı üzerinde de oluşturulur ve eşleştirmeler tamamlanır\n",
    "Base.metadata.create_all(engine)"
   ]
  },
  {
   "cell_type": "code",
   "execution_count": 30,
   "metadata": {},
   "outputs": [],
   "source": [
    "class BolumCalisan(Base):\n",
    "    #__tablename__ değişkeni, bu sınıfın hangi tablo ile birlikte çalıştığını tanımlar\n",
    "    __tablename__ = \"BolumCalisan\"\n",
    "    id = Column(Integer, primary_key=True)\n",
    "    calisan_id = Column(Integer)\n",
    "    bolum_id = Column(Integer)\n",
    "    baslangicTarihi = Column(Date)\n",
    "    bitisTarihi = Column(Date)"
   ]
  },
  {
   "cell_type": "code",
   "execution_count": 31,
   "metadata": {},
   "outputs": [],
   "source": [
    "Base.metadata.create_all(engine)"
   ]
  },
  {
   "cell_type": "code",
   "execution_count": 51,
   "metadata": {},
   "outputs": [],
   "source": [
    "class Calisan(Base):\n",
    "    __tablename__ = \"Calisan\"\n",
    "    id = Column(Integer, primary_key=True)\n",
    "    adi = Column(String)\n",
    "    soyadi = Column(String)\n",
    "    cinsiyet = Column(String)\n",
    "    iseGirisTarihi = Column(Date)\n",
    "\n",
    "    #ilişki oluşturuyoruz\n",
    "    pozisyon = relationship(\"Pozisyon\")\n",
    "    maas = relationship(\"Maas\")\n",
    "    yoneticilik = relationship(\"Pozisyon\")\n",
    "    bolumCalisan = relationship(\"BolumCalisan\")"
   ]
  },
  {
   "cell_type": "code",
   "execution_count": 52,
   "metadata": {},
   "outputs": [],
   "source": [
    "class Bolum(Base):\n",
    "    __tablename__ = \"Bolum\"\n",
    "    id = Column(Integer, primary_key=True)\n",
    "    adi = Column(String)"
   ]
  },
  {
   "cell_type": "code",
   "execution_count": 53,
   "metadata": {},
   "outputs": [],
   "source": [
    "class Pozisyon(Base):\n",
    "    __tablename__ = \"Pozisyon\"\n",
    "    id = Column(Integer, primary_key=True)\n",
    "    calisan_id = Column(Integer, ForeignKey(\"Calisan.id\"))\n",
    "    unvan = Column(String)\n",
    "    baslangicTarihi = Column(Date)\n",
    "    bitisTarihi = Column(Date)\n",
    "\n",
    "    calisan = relationship(\"Calisan\", back_populates=\"pozisyon\")"
   ]
  },
  {
   "cell_type": "code",
   "execution_count": 54,
   "metadata": {},
   "outputs": [],
   "source": [
    "class Maas(Base):\n",
    "    __tablename__ = \"Maas\"\n",
    "    id = Column(Integer, primary_key=True)\n",
    "    calisan_id = Column(Integer, ForeignKey(\"Calisan.id\"))\n",
    "    unvan = Column(String)\n",
    "    baslangicTarihi = Column(Date)\n",
    "    bitisTarihi = Column(Date)\n",
    "\n",
    "    calisan = relationship(\"Calisan\", back_populates=\"maas\")"
   ]
  },
  {
   "cell_type": "code",
   "execution_count": 55,
   "metadata": {},
   "outputs": [],
   "source": [
    "class Yoneticilik(Base):\n",
    "    #__tablename__ değişkeni, bu sınıfın hangi tablo ile birlikte çalıştığını tanımlar\n",
    "    __table_args__ = {'extend_existing': True} #Redefine\n",
    "    __tablename__ = \"Yoneticilik\"\n",
    "    id = Column(Integer, primary_key=True)\n",
    "    calisan_id = Column(Integer, ForeignKey(\"Calisan.id\"))\n",
    "    bolum_id = Column(Integer, ForeignKey(\"Bolum.id\"))\n",
    "    baslangicTarihi = Column(Date)\n",
    "    bitisTarihi = Column(Date)\n",
    "\n",
    "    calisan = relationship(\"Calisan\", back_populates=\"yoneticilik\")\n",
    "    bolum = relationship(\"Bolum\", back_populates=\"yoneticilik\")"
   ]
  },
  {
   "cell_type": "code",
   "execution_count": 56,
   "metadata": {},
   "outputs": [],
   "source": [
    "class BolumCalısan(Base):\n",
    "    #__tablename__ değişkeni, bu sınıfın hangi tablo ile birlikte çalıştığını tanımlar\n",
    "    __table_args__ = {'extend_existing': True} #Redefine\n",
    "    __tablename__ = \"BolumCalısan\"\n",
    "    id = Column(Integer, primary_key=True)\n",
    "    calisan_id = Column(Integer, ForeignKey(\"Calisan.id\"))\n",
    "    bolum_id = Column(Integer, ForeignKey(\"Bolum.id\"))\n",
    "    baslangicTarihi = Column(Date)\n",
    "    bitisTarihi = Column(Date)\n",
    "\n",
    "    calisan = relationship(\"Calisan\", back_populates=\"bolumcalisan\")\n",
    "    bolum = relationship(\"Bolum\", back_populates=\"bolumcalisan\")"
   ]
  },
  {
   "cell_type": "code",
   "execution_count": 57,
   "metadata": {},
   "outputs": [],
   "source": [
    "Base.metadata.create_all(engine)"
   ]
  }
 ],
 "metadata": {
  "kernelspec": {
   "display_name": "Python 3 (ipykernel)",
   "language": "python",
   "name": "python3"
  },
  "language_info": {
   "codemirror_mode": {
    "name": "ipython",
    "version": 3
   },
   "file_extension": ".py",
   "mimetype": "text/x-python",
   "name": "python",
   "nbconvert_exporter": "python",
   "pygments_lexer": "ipython3",
   "version": "3.9.7"
  }
 },
 "nbformat": 4,
 "nbformat_minor": 2
}
